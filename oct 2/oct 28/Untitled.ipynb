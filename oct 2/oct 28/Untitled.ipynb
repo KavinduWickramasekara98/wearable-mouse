{
 "cells": [
  {
   "cell_type": "code",
   "execution_count": 1,
   "id": "80e8eda6",
   "metadata": {},
   "outputs": [
    {
     "name": "stdout",
     "output_type": "stream",
     "text": [
      "Received: yd   y   d\n",
      "Received: d\n",
      "Received: yd   y   d\n",
      "Received: d\n",
      "Received: yd   y   d\n",
      "Received: d\n",
      "Received: yd   y   d\n",
      "Received: d\n",
      "Received: yu   y   u\n",
      "Received: u\n",
      "Received: yu   y   u\n",
      "Received: u\n",
      "Received: yu   y   u\n",
      "Received: u\n",
      "Received: yu   y   u\n",
      "Received: u\n",
      "Received: xl   x   l\n",
      "Received: xr   x   r\n",
      "Received: xr   x   r\n",
      "Received: xr   x   r\n",
      "Received: xl   x   l\n",
      "Received: xl   x   l\n",
      "Received: xl   x   l\n",
      "Received: xr   x   r\n",
      "Received: xr   x   r\n",
      "Received: xl   x   l\n",
      "Received: xr   x   r\n",
      "Received: xr   x   r\n",
      "Received: yd   y   d\n",
      "Received: d\n",
      "Received: yd   y   d\n",
      "Received: d\n",
      "Received: yu   y   u\n",
      "Received: u\n",
      "Received: yd   y   d\n",
      "Received: d\n",
      "Received: yd   y   d\n",
      "Received: d\n",
      "Received: yu   y   u\n",
      "Received: u\n",
      "Received: yu   y   u\n",
      "Received: u\n",
      "Received: yu   y   u\n",
      "Received: u\n",
      "Received: yu   y   u\n",
      "Received: u\n",
      "Received: xl   x   l\n",
      "Received: xl   x   l\n",
      "Received: xl   x   l\n",
      "Received: xr   x   r\n",
      "Received: xl   x   l\n",
      "Received: xr   x   r\n",
      "Received: xl   x   l\n",
      "Received: xl   x   l\n",
      "Received: xr   x   r\n",
      "Received: xr   x   r\n",
      "Received: xl   x   l\n",
      "Received: xl   x   l\n",
      "Received: xr   x   r\n",
      "Received: xl   x   l\n",
      "Received: xl   x   l\n",
      "Received: xl   x   l\n",
      "Received: xr   x   r\n",
      "Received: xr   x   r\n",
      "Received: xr   x   r\n",
      "Received: xl   x   l\n",
      "Received: xr   x   r\n",
      "Received: xr   x   r\n",
      "Received: xl   x   l\n",
      "Received: xr   x   r\n",
      "Serial port error: device reports readiness to read but returned no data (device disconnected or multiple access on port?)\n"
     ]
    }
   ],
   "source": [
    "import serial\n",
    "import time\n",
    "import pyautogui\n",
    "\n",
    "# Define the serial port name (adjust this based on your configuration)\n",
    "serial_port = \"/dev/ttyUSB2\"  # Example: \"/dev/ttyUSB0\" or \"/dev/ttyS0\"\n",
    "\n",
    "# Define the baud rate and other serial port settings\n",
    "baud_rate = 9600\n",
    "\n",
    "try:\n",
    "    # Open the serial port\n",
    "    ser = serial.Serial(serial_port, baud_rate)\n",
    "    time.sleep(0.5)\n",
    "    while True:\n",
    "        # Read data from the serial port (blocking operation)\n",
    "        received_data = ser.readline().decode().rstrip()\n",
    "        print(\"Received:\", received_data,\" \",received_data[0],\" \",received_data[1])\n",
    "        if(received_data[0]==\"x\"):\n",
    "            \n",
    "            if received_data[1] == \"r\": pyautogui.move(40,0, duration=0.01)\n",
    "\n",
    "            if received_data[1] == \"l\": pyautogui.move(-40,0, duration=0.01)            \n",
    "            \n",
    "        \n",
    "        if(received_data[0]==\"y\"):\n",
    "            print(\"Received:\", received_data[1])\n",
    "            if received_data[1] == \"u\": pyautogui.move(0,40, duration=0.01)\n",
    "\n",
    "            if received_data[1] == \"d\": pyautogui.move(0,-40, duration=0.01)            \n",
    "            \n",
    "        \n",
    "except serial.SerialException as e:\n",
    "    print(\"Serial port error:\", e)\n",
    "\n",
    "except KeyboardInterrupt:\n",
    "    # Close the serial port when the user interrupts the program (Ctrl+C)\n",
    "    ser.close()\n",
    "    print(\"Serial port closed.\")"
   ]
  },
  {
   "cell_type": "code",
   "execution_count": 10,
   "id": "6fd6e7d5",
   "metadata": {},
   "outputs": [
    {
     "name": "stdout",
     "output_type": "stream",
     "text": [
      "Port: /dev/ttyUSB0, Description: USB Serial, Hardware ID: USB VID:PID=1A86:7523 LOCATION=2-1.3\n"
     ]
    }
   ],
   "source": [
    "import serial.tools.list_ports\n",
    "\n",
    "ports = serial.tools.list_ports.comports()\n",
    "\n",
    "for port, desc, hwid in sorted(ports):\n",
    "    print(f\"Port: {port}, Description: {desc}, Hardware ID: {hwid}\")\n"
   ]
  },
  {
   "cell_type": "code",
   "execution_count": null,
   "id": "9626d181",
   "metadata": {},
   "outputs": [],
   "source": [
    "import serial\n",
    "\n",
    "# Define the serial port and baud rate\n",
    "serial_port = \"/dev/ttyUSB2\"  # Replace with your serial port name (e.g., \"COM1\" on Windows)\n",
    "baud_rate = 9600\n",
    "\n",
    "try:\n",
    "    # Open the serial port\n",
    "    ser = serial.Serial(serial_port, baud_rate)\n",
    "    \n",
    "    # Read and print serial data indefinitely\n",
    "    while True:\n",
    "        serial_data = ser.readline().decode(\"utf-8\").strip()\n",
    "        print(\"Received:\", serial_data)\n",
    "\n",
    "except serial.SerialException as e:\n",
    "    print(\"Serial port error:\", str(e))\n",
    "except KeyboardInterrupt:\n",
    "    print(\"Serial reading stopped.\")\n",
    "finally:\n",
    "    # Close the serial port when done\n",
    "    if 'ser' in locals() and ser.is_open:\n",
    "        ser.close()\n"
   ]
  },
  {
   "cell_type": "code",
   "execution_count": null,
   "id": "7eb6d6d7",
   "metadata": {},
   "outputs": [],
   "source": [
    "import serial\n",
    "import pyautogui\n",
    "# Open the serial port for reading\n",
    "ser = serial.Serial('/dev/ttyUSB0', baudrate=9600)\n",
    "screen_width, screen_height = pyautogui.size()\n",
    "oldValue=0 \n",
    "print(screen_width)\n",
    "try:\n",
    "    while True:\n",
    "        global oldValue\n",
    "        # Read 4 characters (4 digits) from the serial port\n",
    "        data = ser.read(4).decode('utf-8')\n",
    "\n",
    "        # Check if we've reached the end of the data stream\n",
    "        if not data:\n",
    "            break\n",
    "\n",
    "        # Convert the read data to an integer and print it\n",
    "        number = int(data)\n",
    "        print(number,end=\"\")\n",
    "        if number==oldValue:\n",
    "            continue\n",
    "        \n",
    "        pyautogui.moveTo(number,200, duration=0.0)\n",
    "        time.sleep(0.5)\n",
    "        oldValue=number\n",
    "except KeyboardInterrupt:\n",
    "    # Handle Ctrl+C to gracefully exit the loop\n",
    "    pass\n",
    "finally:\n",
    "    # Close the serial port when done\n",
    "    ser.close()\n"
   ]
  },
  {
   "cell_type": "code",
   "execution_count": 13,
   "id": "c023e766",
   "metadata": {},
   "outputs": [],
   "source": [
    "pyautogui.moveTo(1900,100, duration=0.01)"
   ]
  },
  {
   "cell_type": "code",
   "execution_count": 18,
   "id": "66684366",
   "metadata": {},
   "outputs": [],
   "source": [
    "import pyautogui\n",
    "import serial\n",
    "import threading\n",
    "import time\n",
    "\n",
    "# Initialize the serial port (assuming 'ser' is defined elsewhere in your code)\n",
    "ser = serial.Serial('/dev/ttyUSB0', 9600)  # Adjust the serial port and baud rate as needed\n",
    "\n",
    "# Initialize a lock to control access to the pyautogui.moveTo() function\n",
    "move_lock = threading.Lock()\n",
    "\n",
    "oldValue = 0\n",
    "\n",
    "def move_mouse(number):\n",
    "    global oldValue\n",
    "    with move_lock:\n",
    "        if number != oldValue:\n",
    "            pyautogui.moveTo(number, 400, duration=0.0)\n",
    "            oldValue = number\n",
    "\n",
    "try:\n",
    "    while True:\n",
    "        # Read 4 characters (4 digits) from the serial port\n",
    "        data = ser.read(4).decode('utf-8')\n",
    "\n",
    "        # Check if we've reached the end of the data stream\n",
    "        if not data:\n",
    "            break\n",
    "\n",
    "        # Convert the read data to an integer and print it\n",
    "        number = int(data)\n",
    "        print(number, end=\"\")\n",
    "\n",
    "        # Call the move_mouse function to handle mouse movement\n",
    "        move_mouse(number)\n",
    "\n",
    "except KeyboardInterrupt:\n",
    "    # Handle Ctrl+C to gracefully exit the loop\n",
    "    pass\n",
    "finally:\n",
    "    ser.close()  # Close the serial port when done\n",
    "\n",
    "# Rest of your code...\n"
   ]
  },
  {
   "cell_type": "markdown",
   "id": "bfbcdc50",
   "metadata": {},
   "source": [
    "# use method call\n"
   ]
  },
  {
   "cell_type": "code",
   "execution_count": null,
   "id": "7c463d5c",
   "metadata": {},
   "outputs": [
    {
     "name": "stdout",
     "output_type": "stream",
     "text": [
      "10229829589379279199159169199209219269299359379409359329279239219159139159189199189159139119058998948888838738678648658688738788808818838818808798768738718708688658648628638608618638608598608638648658678658678688708718708718708718758768808818838848838818808818808818838888838858878868888928968999029089119159209219269299329359409459479519539559609649699759799849859879859879889909889929919929919939979991004100810091014101610201023"
     ]
    }
   ],
   "source": [
    "\n",
    "import pyautogui\n",
    "import serial\n",
    "import threading\n",
    "import time\n",
    "\n",
    "# Initialize the serial port (assuming 'ser' is defined elsewhere in your code)\n",
    "ser = serial.Serial('/dev/ttyUSB0', 9600)  # Adjust the serial port and baud rate as needed\n",
    "\n",
    "\n",
    "\n",
    "oldValue = 0\n",
    "\n",
    "def move_mouse(number):\n",
    "    global oldValue\n",
    "    if ((number-oldValue)>10 or (number-oldValue<10)):\n",
    "        pyautogui.moveTo(number, 400, duration=0.0)\n",
    "        oldValue = number\n",
    "    getPoint()    \n",
    "\n",
    "try:\n",
    "    def getPoint():\n",
    "        # Read 4 characters (4 digits) from the serial port\n",
    "        data = ser.read(4).decode('utf-8')\n",
    "       \n",
    "        # Convert the read data to an integer and print it\n",
    "        number = int(data)\n",
    "        print(number, end=\"\")\n",
    "\n",
    "        # Call the move_mouse function to handle mouse movement\n",
    "        move_mouse(number)\n",
    "    getPoint()\n",
    "except KeyboardInterrupt(e):\n",
    "    print(e)\n",
    "    # Handle Ctrl+C to gracefully exit the loop\n",
    "    pass\n",
    "finally:\n",
    "    ser.close()  # Close the serial port when done\n",
    "\n",
    "# Rest of your code...\n"
   ]
  },
  {
   "cell_type": "markdown",
   "id": "1933bf42",
   "metadata": {},
   "source": [
    "# use for "
   ]
  },
  {
   "cell_type": "code",
   "execution_count": null,
   "id": "906c15e6",
   "metadata": {},
   "outputs": [],
   "source": [
    "\n",
    "import pyautogui\n",
    "import serial\n",
    "import threading\n",
    "import time\n",
    "\n",
    "# Initialize the serial port (assuming 'ser' is defined elsewhere in your code)\n",
    "ser = serial.Serial('/dev/ttyUSB0', 9600)  # Adjust the serial port and baud rate as needed\n",
    "\n",
    "for i in range(100):\n",
    "\n",
    "        # Read 4 characters (4 digits) from the serial port\n",
    "    raw_data = ser.read(4).decode('utf-8')\n",
    " \n",
    "    # Clean and extract numeric data\n",
    "    data = ''.join(filter(str.isdigit, raw_data))\n",
    "    \n",
    "    if data:  # Check if there's any numeric data\n",
    "        # Convert the cleaned data to an integer and print it\n",
    "        number = int(data)\n",
    "        print(1*((number)*2),\" \",end=\"\")\n",
    "        pyautogui.moveTo((number)*2, 0, duration=0.0)\n",
    "        # Call the move_mouse function to handle mouse movement\n",
    "#         for i in range(int(number/10)):\n",
    "#             pyautogui.move(10, 0, duration=0.0)\n",
    "\n",
    "        \n",
    "ser.close()  # Close the serial port when done\n",
    "\n",
    "# Rest of your code...\n"
   ]
  },
  {
   "cell_type": "code",
   "execution_count": 31,
   "id": "801403f7",
   "metadata": {},
   "outputs": [],
   "source": [
    "import serial\n",
    "import time\n",
    "import pyautogui\n",
    "\n",
    "# set up the serial line\n",
    "ser = serial.Serial('/dev/ttyUSB1', 9600, timeout=5)  # Add a timeout (1 second) here\n",
    "time.sleep(5)\n",
    "\n",
    "try:\n",
    "    for i in range(100):\n",
    "        f = ser.readline() # read a byte string\n",
    "        if f:\n",
    "            print(\"in\") \n",
    "            string_n = f.decode()  # decode byte string into Unicode\n",
    "            string = string_n.rstrip()  # remove \\n and \\r\n",
    "            print(\"out\",string)\n",
    "        print(\"f\",f)    \n",
    "except KeyboardInterrupt:\n",
    "    pass\n",
    "finally:\n",
    "    ser.close()\n",
    "\n",
    "    "
   ]
  },
  {
   "cell_type": "code",
   "execution_count": null,
   "id": "0936d8ce",
   "metadata": {},
   "outputs": [],
   "source": []
  },
  {
   "cell_type": "markdown",
   "id": "cdc8fb70",
   "metadata": {},
   "source": [
    "# For read 1234 oct20 file code"
   ]
  },
  {
   "cell_type": "code",
   "execution_count": 44,
   "id": "d5378401",
   "metadata": {},
   "outputs": [
    {
     "name": "stdout",
     "output_type": "stream",
     "text": [
      "1234"
     ]
    }
   ],
   "source": [
    "\n",
    "import pyautogui\n",
    "import serial\n",
    "import threading\n",
    "import time\n",
    "\n",
    "# Initialize the serial port (assuming 'ser' is defined elsewhere in your code)\n",
    "ser = serial.Serial('/dev/ttyUSB3', 9600)  # Adjust the serial port and baud rate as needed\n",
    "\n",
    "\n",
    "\n",
    "\n",
    "# Read 4 characters (4 digits) from the serial port\n",
    "data = ser.read(4).decode('utf-8')\n",
    "# Convert the read data to an integer and print it\n",
    "number = int(data)\n",
    "print(number, end=\"\")\n",
    "\n",
    " \n",
    "\n",
    "ser.close()  # Close the serial port when done\n",
    "\n",
    "# Rest of your code...\n"
   ]
  },
  {
   "cell_type": "code",
   "execution_count": null,
   "id": "b6210197",
   "metadata": {},
   "outputs": [],
   "source": []
  },
  {
   "cell_type": "markdown",
   "id": "0a7aae1d",
   "metadata": {},
   "source": [
    "# oct 24 get data from one ir set"
   ]
  },
  {
   "cell_type": "code",
   "execution_count": 49,
   "id": "f11ca966",
   "metadata": {},
   "outputs": [
    {
     "name": "stdout",
     "output_type": "stream",
     "text": [
      "752"
     ]
    }
   ],
   "source": [
    "\n",
    "import pyautogui\n",
    "import serial\n",
    "import threading\n",
    "import time\n",
    "\n",
    "# Initialize the serial port (assuming 'ser' is defined elsewhere in your code)\n",
    "ser = serial.Serial('/dev/ttyUSB4', 9600)  # Adjust the serial port and baud rate as needed\n",
    "\n",
    "\n",
    "\n",
    "def readData():\n",
    "    # Read 4 characters (4 digits) from the serial port\n",
    "    data = ser.read(4).decode('utf-8')\n",
    "    # Convert the read data to an integer and print it\n",
    "    number = int(data)\n",
    "    print(number, end=\"\")\n",
    "\n",
    "readData() \n",
    "\n",
    "ser.close()  # Close the serial port when done\n",
    "\n",
    "# Rest of your code..."
   ]
  },
  {
   "cell_type": "code",
   "execution_count": null,
   "id": "cf08d921",
   "metadata": {},
   "outputs": [],
   "source": []
  },
  {
   "cell_type": "markdown",
   "id": "a1e4b92e",
   "metadata": {},
   "source": [
    "# use realtime data from yeild"
   ]
  },
  {
   "cell_type": "code",
   "execution_count": 13,
   "id": "764f6a03",
   "metadata": {},
   "outputs": [
    {
     "name": "stdout",
     "output_type": "stream",
     "text": [
      "start\n",
      "sleep is done\n",
      "1023 1023 1023 1023 1023 1023 1023 1023 1023 1023 1023 1023 1023 1023 1023 1023 1023 1023 1023 1023 1023 1023 1023 1023 1023 1023 1023 1023 1023 1023 1023 1023 1023 1023 1023 1023 1023 1023 1023 1023 1023 1023 1023 1023 1023 1023 1023 1023 1023 1023 1023 1023 1023 1023 1023 1023 1023 1023 1023 1023 1023 1023 1023 1023 1023 1023 1023 1023 1023 1023  999  843  768  707  679  671  670  670  672  670  668  675  679  679  675  678  684  684  683  678  675  679  681  683  678  675  679  683  683  676  673  679  681  684  679  675  678  679  684  684  678  679  684  684  679  675  678  684  684  683  675  675  681  683  679  678 1023 1023 1023 1023 1023 1023 1023 1023 1023 1023 1023 1023 1023 1023 1023 1023 1023 1023 1023 1023 1023 1023 1023 1023 1023 1023 1023 1023 1023 1023 1023 1023 1023 1023 1023 1023 1023 1023 1023 1023 1023 1023 1023 1023 1023 1023 1023 1023 1023 1023 1023 1023 1023 1023 1023 1023 1023 1023 1023 1023 1023 1023 1023 1023 1023 1023 1023 1023 1023 1023 1023 1023 1023 1023 1023 1023 1023 1023 1023 1023 1023 1023 1023 1023 1023 1023 1023 1023 1023 1023 1023 1023 1023 1023 1023 1023 1023 1023 1023 1023 1023 1023 1023 1023 1023 1023 1023 1023 1023 1023 1023 1023 1023 1023 1023 1023 1023 1023 1023 1023 1023 1023 1023 1023 1023 1023 1023 1023 1023 1023 1023 1023 1023 1023 1023 1023 1023 1023 1023 1023 1023 1023 1023 1023 1023 1023 1023 1023 1023 1023 1023 1023 1023 1023 1023 1023 1023 1023 1023 1023  990 1009 1023 1023 1023  761  679  731  720  645  635  632  639  632  627  631  632  632  627  627  632  637  638  624  620  624  625  627  627  625  639  643  647  643  643  655  659  655  649  649  659  659  664  671  681  681  704  700  695  697  702  703  704  694  691  697  696  697  691  694  700  700  702  694  694  700  700  700  692  696  700  700  696  691  694  697  697  695  688  689  693  691  688  687  695  697  696  694  691  697  700  704  697  700  702  704  702  696  691  696  700  699  691  689  691  700  689  697  688  697  703  697  696  691  699  702  707  691  696  700  700  702  691  692  697  696  696  687  685  691  691  694  686  688  696  694  696  687  689  699  696  696  688  689  696  692  691  686  684  691  694  689  686  684  695  696  696  688  691  694  692  688  681  679  700  694  696  695  679  711  689  704  686  702  702  707  713  700  705  707  704  700  690  694  700  696  691  684  688  695  696  695  688  689  693  694  800 1023 1023 1023 1023 1023 1023 1023 1023 1023 1023 1023 1023 1023 1023 1023 1023 1023 1023 1023 1023 1023 1023 1023 1023 1023 1023 1023 1023 1023 1023 1023 1023 1023 1023 1023 1023 1023 1023 1023 1023 1023 1023 1023 1023 1023 1023 1023 1023 1023 1023 1023 1023 1023 1023 1023 1023 1023 1023 1023 1023 1023 1023 1023 1023 1023 1023 1023 1023 1023 1023 1023 1023 1023 1023 1023 1023 1023 1023 1023 1023 1023 1023 1023 1023 1023 1023 1023 1023 1023 1023 1023 1023 1023 1023 1023 1023 1023 1023 1023 1023 1023 1023 1023 1023 1023 1023 1023 1023 1023 1023 1023 1023 1023 1023 1023 1023 1023 1023 1023 1023 1023 1023 1023 1023 1023 1023 1023 1023 1023 1023 1023 1023 1023 1023 1023 1023 1023 1023 1023 1023 1023 1023 1023 1023 1023 1023  820  735  700  696  686  684  686  686  689  696  700  704  700  699  702  700  699  695  692  696  704  704  702  695  694  702  703  702  696  694  697  703  702  697  695  696  702  704  702  700  702  707  710  711  704  704  710  711  710  703  700  699  703  702  694  699  703  707  710  707  700  702  708  707  710  700  710  740  771  766  760  782  795  800  803  799  796  796  795  806  800  793  796  804  807  807  799  799  807  811  812  803  803  804  807  811  807  806  807  812  814  811  808  816  831  835  838  831  839  856  864  868  864  871  942  991 1022 1023 1023 1023 1023 1023 1023 1023 1023 1023 1023 1023 1023 1023 1023 1023 1023 1023 1023 1023 1023 1023 1023 1023 1023 1023 1023 1023 1023 1023 1023 1023 1023 1023 1023 1023 1023 1023 1023 1023 1023 1023 1023 1023 1023 1023 1023 1023 1023 1023 1023 1023 1023 1023 1023 1023 1023 1023 1023 1023 1023 1023 1023 1023 1023 1023 1023 1023 1023 1023 1023 1023 1023 1023 1023 1023 1023 1023 1023 1023 1023 1023 1023 1023 1023 1017 1011 1011 1011 1002  993  992  995  990  980  969  967  972  972  969  956  956  961  960  960  947  947  956  956  952  940  934  934  929  924  911  902  905  908  907  897  888  889  894  896  893  886  887  894  892  891  880  881  888  889  880  871  870  876  876  876  866  864  870  870  867  855  851  856  860  860  855  846  846  849  851  848  839  839  846  840  839  828  760  887  857  820  814  812  814  814  808  801  793  793  795  793  783  777  779  782  782  776  766  768  772  766  764  752  752  758  753  750  736  737  736  739  737  728  726  728  732  732  728  723  723  731  731  728  719  719  726  726  727  718  719  723  724  723  716  716  720  723  726  719  716  721  736  742  743  742  748  770  775  783  780  787  796  798  800  798  802  872  911  790  791  803  865  845  835  670  609  847  937  889  707  588  692  897  927  758  588  636  839  940  801  615  598  780  935  867  649  560  715  913  902  702  551  659  883  939  763  563  607  822  950  812  600  575  766  945  873  641  551  716  915  903  696  563  679  892  931  742  563  638  851  937  782  604  615  814  950  837  632  604  775  942  888  675  591  743  920  915  723  583  704  903  942  771  604  664  879  953  800  630  651  851  975  859  655  638  814  974  911  713  633  903  992  940  758  643  774  960  991  807  655  736 1007  995  835  672  720  998 1017  943  947  943  993  985  943  958  969  992 1009  988  974  833  975 1020  983  839  758  984 1023 1020  866  736  847 1020  995  975  968  995 1022 1023 1014 1008 1007 1012 1017  952  803  829  995 1023  943  807  830  975 1022 1023  847  819 1017 1023 1023 1017  855  964 1023 1005 1023 1023 1023 1023 1023 1023 1023 1023 1023 1023  917  807  899 1023 1023  924  786  844 1023 1023  947  791  817  993 1023  979  800  801  969 1023 1019  828  787  940 1023 1023  857  777  907 1023 1023  895  774  870 1023 1023  931  784  852 1023 1023 1023 1023 1023 1023 1023 1023 1023 1023 1023 1023 1023 1023 1023 1023 1023 1023 1023 1023 1023 1023 1023 1011 1023 1023 1023 1023 1023 1023 1023 1023 1023 1023 1023 1023 1023 1023 1023 1023 1023 1023 1023 1023 1023 1023 1023 1023 1023 1023 1023 1023 1023 1023 1023 1023 1023 1023 1023 1023 1023 1023 1023 1023 1023 1023 1023 1023 1023 1023 1023 1023 1023 1023 1023 1023 1023 1023 1023 1023 1023 1023 1023 1023 1023 1023 1023 1023 1023 1023 1023 1023 1023 1023 1023 1023 1023 1023 1023 1023 1023  939 1023 1023 1023 1023 1023 1023 1023 1023 1023 1023 1023 1023 1023 1023 1023 1023 1023 1023 1023 1023 1023 1023 1023 1023 1023 1023 1023 1023 1023 1023 1023 1023 1023 1023 1023 1023 1023 1023 1023 1023 1023 1023 1023 1023 1023 1023 1023 1023 1023 1023 1023 1023 1023 1023 1023 1023 1023 1023 1023 1023 1023 1023 1023 1023 1023 1023 1023 1023 1023 1023 1023 1023 1023 1023 1023 1023 1023 1023 1023 1023 1023 1023 1023 1023 1023 1023 1023 1023 1023 1023 1023 1023 1023 1023 1023 1023 1023 1023 1023 1023 1023 1023 1023 1023 1023 1023 1023 1023 1023 1023 1023 1023 1023 1023 1023 1023  992  831  903 1023 1023  984 1023 1023 1023 1023 1023 1023 1023 1023 1023 1023 1023 1023 1023 1023 1023 1023 1023 1023 1023 1023  915  982 1023 1023 1023 1023 1023 1023 1023 1023 1023 1023 1023 1023 1023 1023 1023 1023 1023 1023  991 1023  927 1023 1023 1022 1023 1023 1023 1023 1023 1023 1023 1023 1023 1023 1023 1023 1023 1023 1023 1023 1023 1023 1023 1023 1023 1023 1023 1023 1023 1023 1023 1023 1023 1023 1023 1023 1023 1023 1023 1023 1023 1023 1023 1023 1023 1023 1023 1023 1023 "
     ]
    },
    {
     "ename": "SerialException",
     "evalue": "device reports readiness to read but returned no data (device disconnected or multiple access on port?)",
     "output_type": "error",
     "traceback": [
      "\u001b[0;31m---------------------------------------------------------------------------\u001b[0m",
      "\u001b[0;31mSerialException\u001b[0m                           Traceback (most recent call last)",
      "Cell \u001b[0;32mIn[13], line 19\u001b[0m\n\u001b[1;32m     17\u001b[0m \u001b[38;5;28mprint\u001b[39m(\u001b[38;5;124m\"\u001b[39m\u001b[38;5;124mstart\u001b[39m\u001b[38;5;124m\"\u001b[39m)\n\u001b[1;32m     18\u001b[0m \u001b[38;5;66;03m# Usage in a while loop\u001b[39;00m\n\u001b[0;32m---> 19\u001b[0m \u001b[38;5;28;01mfor\u001b[39;00m data_point \u001b[38;5;129;01min\u001b[39;00m read_serial_data(\u001b[38;5;124m'\u001b[39m\u001b[38;5;124m/dev/ttyUSB1\u001b[39m\u001b[38;5;124m'\u001b[39m, \u001b[38;5;241m9600\u001b[39m, timeout\u001b[38;5;241m=\u001b[39m\u001b[38;5;241m5\u001b[39m):\n\u001b[1;32m     20\u001b[0m     pyautogui\u001b[38;5;241m.\u001b[39mmoveTo((\u001b[38;5;28mint\u001b[39m(data_point)\u001b[38;5;241m-\u001b[39m\u001b[38;5;241m828\u001b[39m)\u001b[38;5;241m*\u001b[39m\u001b[38;5;241m2\u001b[39m, \u001b[38;5;241m400\u001b[39m, duration\u001b[38;5;241m=\u001b[39m\u001b[38;5;241m0.0\u001b[39m)\n\u001b[1;32m     21\u001b[0m     \u001b[38;5;28mprint\u001b[39m(data_point,end\u001b[38;5;241m=\u001b[39m\u001b[38;5;124m\"\u001b[39m\u001b[38;5;124m \u001b[39m\u001b[38;5;124m\"\u001b[39m)\n",
      "Cell \u001b[0;32mIn[13], line 10\u001b[0m, in \u001b[0;36mread_serial_data\u001b[0;34m(serial_port, baud_rate, timeout)\u001b[0m\n\u001b[1;32m      8\u001b[0m \u001b[38;5;28;01mtry\u001b[39;00m:\n\u001b[1;32m      9\u001b[0m     \u001b[38;5;28;01mwhile\u001b[39;00m \u001b[38;5;28;01mTrue\u001b[39;00m:\n\u001b[0;32m---> 10\u001b[0m         data \u001b[38;5;241m=\u001b[39m \u001b[43mser\u001b[49m\u001b[38;5;241;43m.\u001b[39;49m\u001b[43mread\u001b[49m\u001b[43m(\u001b[49m\u001b[38;5;241;43m4\u001b[39;49m\u001b[43m)\u001b[49m\u001b[38;5;241m.\u001b[39mdecode(\u001b[38;5;124m'\u001b[39m\u001b[38;5;124mutf-8\u001b[39m\u001b[38;5;124m'\u001b[39m)  \u001b[38;5;66;03m# Read and decode data from the serial port\u001b[39;00m\n\u001b[1;32m     11\u001b[0m         \u001b[38;5;28;01mif\u001b[39;00m data:\n\u001b[1;32m     12\u001b[0m             \u001b[38;5;28;01myield\u001b[39;00m data  \u001b[38;5;66;03m# Yield the data if it's not empty\u001b[39;00m\n",
      "File \u001b[0;32m~/.local/lib/python3.8/site-packages/serial/serialposix.py:595\u001b[0m, in \u001b[0;36mSerial.read\u001b[0;34m(self, size)\u001b[0m\n\u001b[1;32m    588\u001b[0m \u001b[38;5;28;01melse\u001b[39;00m:\n\u001b[1;32m    589\u001b[0m     \u001b[38;5;66;03m# read should always return some data as select reported it was\u001b[39;00m\n\u001b[1;32m    590\u001b[0m     \u001b[38;5;66;03m# ready to read when we get to this point.\u001b[39;00m\n\u001b[1;32m    591\u001b[0m     \u001b[38;5;28;01mif\u001b[39;00m \u001b[38;5;129;01mnot\u001b[39;00m buf:\n\u001b[1;32m    592\u001b[0m         \u001b[38;5;66;03m# Disconnected devices, at least on Linux, show the\u001b[39;00m\n\u001b[1;32m    593\u001b[0m         \u001b[38;5;66;03m# behavior that they are always ready to read immediately\u001b[39;00m\n\u001b[1;32m    594\u001b[0m         \u001b[38;5;66;03m# but reading returns nothing.\u001b[39;00m\n\u001b[0;32m--> 595\u001b[0m         \u001b[38;5;28;01mraise\u001b[39;00m SerialException(\n\u001b[1;32m    596\u001b[0m             \u001b[38;5;124m'\u001b[39m\u001b[38;5;124mdevice reports readiness to read but returned no data \u001b[39m\u001b[38;5;124m'\u001b[39m\n\u001b[1;32m    597\u001b[0m             \u001b[38;5;124m'\u001b[39m\u001b[38;5;124m(device disconnected or multiple access on port?)\u001b[39m\u001b[38;5;124m'\u001b[39m)\n\u001b[1;32m    598\u001b[0m     read\u001b[38;5;241m.\u001b[39mextend(buf)\n\u001b[1;32m    600\u001b[0m \u001b[38;5;28;01mif\u001b[39;00m timeout\u001b[38;5;241m.\u001b[39mexpired():\n",
      "\u001b[0;31mSerialException\u001b[0m: device reports readiness to read but returned no data (device disconnected or multiple access on port?)"
     ]
    }
   ],
   "source": [
    "import serial\n",
    "import time\n",
    "import pyautogui\n",
    "def read_serial_data(serial_port, baud_rate, timeout):\n",
    "    ser = serial.Serial(serial_port, baud_rate, timeout=timeout)\n",
    "    time.sleep(5)  # Give it some time to establish the connection\n",
    "    print(\"sleep is done\")\n",
    "    try:\n",
    "        while True:\n",
    "            data = ser.read(4).decode('utf-8')  # Read and decode data from the serial port\n",
    "            if data:\n",
    "                yield data  # Yield the data if it's not empty\n",
    "    except KeyboardInterrupt:\n",
    "        pass\n",
    "    finally:\n",
    "        ser.close()\n",
    "print(\"start\")\n",
    "# Usage in a while loop\n",
    "for data_point in read_serial_data('/dev/ttyUSB1', 9600, timeout=5):\n",
    "    pyautogui.moveTo((int(data_point)-828)*2, 400, duration=0.0)\n",
    "    print(data_point,end=\" \")\n"
   ]
  },
  {
   "cell_type": "code",
   "execution_count": null,
   "id": "fcc04534",
   "metadata": {},
   "outputs": [],
   "source": []
  }
 ],
 "metadata": {
  "kernelspec": {
   "display_name": "Python 3 (ipykernel)",
   "language": "python",
   "name": "python3"
  },
  "language_info": {
   "codemirror_mode": {
    "name": "ipython",
    "version": 3
   },
   "file_extension": ".py",
   "mimetype": "text/x-python",
   "name": "python",
   "nbconvert_exporter": "python",
   "pygments_lexer": "ipython3",
   "version": "3.8.10"
  }
 },
 "nbformat": 4,
 "nbformat_minor": 5
}
